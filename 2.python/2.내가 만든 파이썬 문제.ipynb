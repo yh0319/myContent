{
 "cells": [
  {
   "cell_type": "markdown",
   "metadata": {},
   "source": [
    "### 문제 1\n",
    "\n",
    "for 문을 활용하여 6부터 20까지 2씩 증가시키며 list 변수에 데이터 값을 저장하세요<br>\n",
    "단, 6의 배수는 list에 저장하지 말 것"
   ]
  },
  {
   "cell_type": "code",
   "execution_count": 2,
   "metadata": {},
   "outputs": [
    {
     "data": {
      "text/plain": [
       "[8, 10, 14, 16, 20]"
      ]
     },
     "execution_count": 2,
     "metadata": {},
     "output_type": "execute_result"
    }
   ],
   "source": [
    "myList = []\n",
    "for i in range(6,21,2):\n",
    "    if i % 6 != 0:\n",
    "        myList.append(i)\n",
    "\n",
    "myList"
   ]
  },
  {
   "cell_type": "markdown",
   "metadata": {},
   "source": [
    "### 문제 2\n",
    "\n",
    "연속된 숫자를 입력받은 후, 중복된 값을 제거하고 오름차순 정렬하여 출력하세요\n",
    "<br>\n",
    "예시)<br>\n",
    "입력: 1 1 1 4 5 6 3<br>\n",
    "출력: 1 3 4 5 6"
   ]
  },
  {
   "cell_type": "code",
   "execution_count": 3,
   "metadata": {},
   "outputs": [
    {
     "name": "stdout",
     "output_type": "stream",
     "text": [
      "1 1 1 4 5 6 3\n",
      "1 3 4 5 6 "
     ]
    }
   ],
   "source": [
    "data = input().split(' ')\n",
    "data = set(data)\n",
    "data = list(map(int,data))\n",
    "\n",
    "data.sort()\n",
    "for i in range(len(data)):\n",
    "    if i == i:\n",
    "        print(data[i], end = \" \")\n",
    "        "
   ]
  },
  {
   "cell_type": "code",
   "execution_count": null,
   "metadata": {},
   "outputs": [],
   "source": []
  }
 ],
 "metadata": {
  "kernelspec": {
   "display_name": "Python 3",
   "language": "python",
   "name": "python3"
  },
  "language_info": {
   "codemirror_mode": {
    "name": "ipython",
    "version": 3
   },
   "file_extension": ".py",
   "mimetype": "text/x-python",
   "name": "python",
   "nbconvert_exporter": "python",
   "pygments_lexer": "ipython3",
   "version": "3.7.0"
  }
 },
 "nbformat": 4,
 "nbformat_minor": 2
}
